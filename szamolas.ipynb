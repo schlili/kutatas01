{
  "nbformat": 4,
  "nbformat_minor": 0,
  "metadata": {
    "colab": {
      "provenance": []
    },
    "kernelspec": {
      "name": "python3",
      "display_name": "Python 3"
    },
    "language_info": {
      "name": "python"
    }
  },
  "cells": [
    {
      "cell_type": "code",
      "execution_count": null,
      "metadata": {
        "id": "PW89PqTAf57i"
      },
      "outputs": [],
      "source": [
        "from sympy import *\n",
        "init_printing()"
      ]
    },
    {
      "cell_type": "code",
      "source": [
        "phi1, phi2, phi3, theta, R, rho, D, k, l, m= symbols([r'\\varphi_1', r'\\varphi_2', r'\\varphi_3', r'\\theta', 'R', r'\\rho', 'D','k', 'l', 'm'])\n",
        "dphi1, dphi2, dphi3, dtheta = symbols([r'\\dot{\\varphi}_1', r'\\dot{\\varphi}_2', r'\\dot{\\varphi}_3', r'\\dot{\\theta}'])"
      ],
      "metadata": {
        "id": "FWQKkK1Of8my"
      },
      "execution_count": null,
      "outputs": []
    },
    {
      "cell_type": "code",
      "source": [
        "r1=sqrt(R**2 + rho**2 - 2*R*rho*cos(theta-phi1))\n",
        "r2=sqrt(R**2 + rho**2 - 2*R*rho*cos(theta-phi2))\n",
        "r3=sqrt(R**2 + rho**2 - 2*R*rho*cos(theta-phi3))"
      ],
      "metadata": {
        "id": "A9R5jzeOiGCu"
      },
      "execution_count": null,
      "outputs": []
    },
    {
      "cell_type": "code",
      "source": [
        "V_b= 1/2 * D * (3*l**2 + 4*R**2*((sin((phi2-phi1)/(2)))**2 + (sin((phi3-phi2)/(2)))**2 + (sin((phi1-phi3)/(2)))**2) - 4*R*l*(sin((phi2-phi1)/(2)) + sin((phi3-phi2)/(2)) + sin((phi1-phi3)/(2))))"
      ],
      "metadata": {
        "id": "IywsScB9jUQr"
      },
      "execution_count": null,
      "outputs": []
    },
    {
      "cell_type": "code",
      "source": [
        "V_k= k * (exp(-r1) + exp(-r2) + exp(-r3))"
      ],
      "metadata": {
        "id": "SPpxwW7JkW54"
      },
      "execution_count": null,
      "outputs": []
    },
    {
      "cell_type": "code",
      "source": [
        "V = V_b + V_k"
      ],
      "metadata": {
        "id": "cVRJgI3CkbI9"
      },
      "execution_count": null,
      "outputs": []
    },
    {
      "cell_type": "code",
      "source": [
        "K= 1/2 * m * R**2 * (dphi1**2 + dphi2**2 + dphi3**2)"
      ],
      "metadata": {
        "id": "uzMP24egmCqB"
      },
      "execution_count": null,
      "outputs": []
    },
    {
      "cell_type": "code",
      "source": [
        "L= K - V"
      ],
      "metadata": {
        "id": "k-6fCiL5mSr2"
      },
      "execution_count": null,
      "outputs": []
    },
    {
      "cell_type": "code",
      "source": [
        "L"
      ],
      "metadata": {
        "colab": {
          "base_uri": "https://localhost:8080/",
          "height": 79
        },
        "id": "4lASrgw7r0lO",
        "outputId": "efe00178-9ee1-4705-e51e-3ab1ed3abf53"
      },
      "execution_count": null,
      "outputs": [
        {
          "output_type": "execute_result",
          "data": {
            "text/plain": [
              "                                                                               ↪\n",
              "                                                                               ↪\n",
              "        ⎛   2 ⎛   2⎛\\varphi₁   \\varphi₂⎞      2⎛\\varphi₁   \\varphi₃⎞      2⎛\\v ↪\n",
              "- 0.5⋅D⋅⎜4⋅R ⋅⎜sin ⎜──────── - ────────⎟ + sin ⎜──────── - ────────⎟ + sin ⎜── ↪\n",
              "        ⎝     ⎝    ⎝   2          2    ⎠       ⎝   2          2    ⎠       ⎝   ↪\n",
              "\n",
              "↪                                                                              ↪\n",
              "↪                                                                              ↪\n",
              "↪ arphi₂   \\varphi₃⎞⎞         ⎛     ⎛\\varphi₁   \\varphi₂⎞      ⎛\\varphi₁   \\va ↪\n",
              "↪ ────── - ────────⎟⎟ - 4⋅R⋅l⋅⎜- sin⎜──────── - ────────⎟ + sin⎜──────── - ─── ↪\n",
              "↪  2          2    ⎠⎠         ⎝     ⎝   2          2    ⎠      ⎝   2           ↪\n",
              "\n",
              "↪                                                                              ↪\n",
              "↪                                                                              ↪\n",
              "↪ rphi₃⎞      ⎛\\varphi₂   \\varphi₃⎞⎞      2⎞        2   ⎛              2       ↪\n",
              "↪ ─────⎟ - sin⎜──────── - ────────⎟⎟ + 3⋅l ⎟ + 0.5⋅R ⋅m⋅⎝\\dot{\\varphi}₁  + \\do ↪\n",
              "↪ 2    ⎠      ⎝   2          2    ⎠⎠       ⎠                                   ↪\n",
              "\n",
              "↪                                     ⎛     __________________________________ ↪\n",
              "↪                                     ⎜    ╱  2                                ↪\n",
              "↪            2                 2⎞     ⎜ -╲╱  R  - 2⋅R⋅\\rho⋅cos(\\theta - \\varph ↪\n",
              "↪ t{\\varphi}₂  + \\dot{\\varphi}₃ ⎠ - k⋅⎝ℯ                                       ↪\n",
              "↪                                                                              ↪\n",
              "\n",
              "↪ ____________        ______________________________________________        __ ↪\n",
              "↪           2        ╱  2                                         2        ╱   ↪\n",
              "↪ i₃) + \\rho      -╲╱  R  - 2⋅R⋅\\rho⋅cos(\\theta - \\varphi₂) + \\rho      -╲╱  R ↪\n",
              "↪              + ℯ                                                   + ℯ       ↪\n",
              "↪                                                                              ↪\n",
              "\n",
              "↪ ____________________________________________⎞\n",
              "↪ 2                                         2 ⎟\n",
              "↪   - 2⋅R⋅\\rho⋅cos(\\theta - \\varphi₁) + \\rho  ⎟\n",
              "↪                                             ⎠\n",
              "↪                                              "
            ],
            "text/latex": "$\\displaystyle - 0.5 D \\left(4 R^{2} \\left(\\sin^{2}{\\left(\\frac{\\varphi_{1}}{2} - \\frac{\\varphi_{2}}{2} \\right)} + \\sin^{2}{\\left(\\frac{\\varphi_{1}}{2} - \\frac{\\varphi_{3}}{2} \\right)} + \\sin^{2}{\\left(\\frac{\\varphi_{2}}{2} - \\frac{\\varphi_{3}}{2} \\right)}\\right) - 4 R l \\left(- \\sin{\\left(\\frac{\\varphi_{1}}{2} - \\frac{\\varphi_{2}}{2} \\right)} + \\sin{\\left(\\frac{\\varphi_{1}}{2} - \\frac{\\varphi_{3}}{2} \\right)} - \\sin{\\left(\\frac{\\varphi_{2}}{2} - \\frac{\\varphi_{3}}{2} \\right)}\\right) + 3 l^{2}\\right) + 0.5 R^{2} m \\left(\\dot{\\varphi}_1^{2} + \\dot{\\varphi}_2^{2} + \\dot{\\varphi}_3^{2}\\right) - k \\left(e^{- \\sqrt{R^{2} - 2 R \\rho \\cos{\\left(\\theta - \\varphi_{3} \\right)} + \\rho^{2}}} + e^{- \\sqrt{R^{2} - 2 R \\rho \\cos{\\left(\\theta - \\varphi_{2} \\right)} + \\rho^{2}}} + e^{- \\sqrt{R^{2} - 2 R \\rho \\cos{\\left(\\theta - \\varphi_{1} \\right)} + \\rho^{2}}}\\right)$"
          },
          "metadata": {},
          "execution_count": 9
        }
      ]
    },
    {
      "cell_type": "code",
      "source": [
        "egyes=simplify(diff(L,phi1))\n",
        "kettes=simplify(diff(L,phi2))\n",
        "harmas=simplify(diff(L,phi3))\n",
        "kicsi=simplify(diff(L,theta))"
      ],
      "metadata": {
        "id": "XXsHSFgbkpkt"
      },
      "execution_count": null,
      "outputs": []
    },
    {
      "cell_type": "code",
      "source": [
        "egyes"
      ],
      "metadata": {
        "colab": {
          "base_uri": "https://localhost:8080/",
          "height": 69
        },
        "id": "H2HmcneMlHVH",
        "outputId": "dddba442-c2e4-4be7-ae92-7a54b734680c"
      },
      "execution_count": null,
      "outputs": [
        {
          "output_type": "execute_result",
          "data": {
            "text/plain": [
              "       ⎛                                                                       ↪\n",
              "       ⎜                                                                       ↪\n",
              "       ⎜                                                                       ↪\n",
              "       ⎜                                                                     ⎛ ↪\n",
              "-1.0⋅R⋅⎜D⋅R⋅sin(\\varphi₁ - \\varphi₂) + D⋅R⋅sin(\\varphi₁ - \\varphi₃) + D⋅l⋅cos⎜ ↪\n",
              "       ⎜                                                                     ⎝ ↪\n",
              "       ⎜                                                                       ↪\n",
              "       ⎝                                                                       ↪\n",
              "\n",
              "↪                                                                   __________ ↪\n",
              "↪                                                                  ╱  2        ↪\n",
              "↪                                                               -╲╱  R  - 2⋅R⋅ ↪\n",
              "↪ \\varphi₁   \\varphi₂⎞          ⎛\\varphi₁   \\varphi₃⎞   \\rho⋅k⋅ℯ               ↪\n",
              "↪ ──────── - ────────⎟ - D⋅l⋅cos⎜──────── - ────────⎟ + ────────────────────── ↪\n",
              "↪    2          2    ⎠          ⎝   2          2    ⎠                      ___ ↪\n",
              "↪                                                                         ╱  2 ↪\n",
              "↪                                                                       ╲╱  R  ↪\n",
              "\n",
              "↪ ____________________________________                       ⎞\n",
              "↪                                   2                        ⎟\n",
              "↪ \\rho⋅cos(\\theta - \\varphi₁) + \\rho                         ⎟\n",
              "↪                                     ⋅sin(\\theta - \\varphi₁)⎟\n",
              "↪ ───────────────────────────────────────────────────────────⎟\n",
              "↪ ___________________________________________                ⎟\n",
              "↪                                          2                 ⎟\n",
              "↪  - 2⋅R⋅\\rho⋅cos(\\theta - \\varphi₁) + \\rho                  ⎠"
            ],
            "text/latex": "$\\displaystyle - 1.0 R \\left(D R \\sin{\\left(\\varphi_{1} - \\varphi_{2} \\right)} + D R \\sin{\\left(\\varphi_{1} - \\varphi_{3} \\right)} + D l \\cos{\\left(\\frac{\\varphi_{1}}{2} - \\frac{\\varphi_{2}}{2} \\right)} - D l \\cos{\\left(\\frac{\\varphi_{1}}{2} - \\frac{\\varphi_{3}}{2} \\right)} + \\frac{\\rho k e^{- \\sqrt{R^{2} - 2 R \\rho \\cos{\\left(\\theta - \\varphi_{1} \\right)} + \\rho^{2}}} \\sin{\\left(\\theta - \\varphi_{1} \\right)}}{\\sqrt{R^{2} - 2 R \\rho \\cos{\\left(\\theta - \\varphi_{1} \\right)} + \\rho^{2}}}\\right)$"
          },
          "metadata": {},
          "execution_count": 16
        }
      ]
    },
    {
      "cell_type": "code",
      "source": [
        "kettes"
      ],
      "metadata": {
        "colab": {
          "base_uri": "https://localhost:8080/",
          "height": 69
        },
        "id": "eOnLXqkWlIYd",
        "outputId": "90d603d1-8e2d-4327-8d25-b9a710aca71a"
      },
      "execution_count": null,
      "outputs": [
        {
          "output_type": "execute_result",
          "data": {
            "text/plain": [
              "      ⎛                                                                        ↪\n",
              "      ⎜                                                                        ↪\n",
              "      ⎜                                                                        ↪\n",
              "      ⎜                                                                     ⎛\\ ↪\n",
              "1.0⋅R⋅⎜D⋅R⋅sin(\\varphi₁ - \\varphi₂) - D⋅R⋅sin(\\varphi₂ - \\varphi₃) + D⋅l⋅cos⎜─ ↪\n",
              "      ⎜                                                                     ⎝  ↪\n",
              "      ⎜                                                                        ↪\n",
              "      ⎝                                                                        ↪\n",
              "\n",
              "↪                                                                  ___________ ↪\n",
              "↪                                                                 ╱  2         ↪\n",
              "↪                                                              -╲╱  R  - 2⋅R⋅\\ ↪\n",
              "↪ varphi₁   \\varphi₂⎞          ⎛\\varphi₂   \\varphi₃⎞   \\rho⋅k⋅ℯ                ↪\n",
              "↪ ─────── - ────────⎟ - D⋅l⋅cos⎜──────── - ────────⎟ - ─────────────────────── ↪\n",
              "↪   2          2    ⎠          ⎝   2          2    ⎠                      ____ ↪\n",
              "↪                                                                        ╱  2  ↪\n",
              "↪                                                                      ╲╱  R   ↪\n",
              "\n",
              "↪ ___________________________________                       ⎞\n",
              "↪                                  2                        ⎟\n",
              "↪ rho⋅cos(\\theta - \\varphi₂) + \\rho                         ⎟\n",
              "↪                                    ⋅sin(\\theta - \\varphi₂)⎟\n",
              "↪ ──────────────────────────────────────────────────────────⎟\n",
              "↪ __________________________________________                ⎟\n",
              "↪                                         2                 ⎟\n",
              "↪ - 2⋅R⋅\\rho⋅cos(\\theta - \\varphi₂) + \\rho                  ⎠"
            ],
            "text/latex": "$\\displaystyle 1.0 R \\left(D R \\sin{\\left(\\varphi_{1} - \\varphi_{2} \\right)} - D R \\sin{\\left(\\varphi_{2} - \\varphi_{3} \\right)} + D l \\cos{\\left(\\frac{\\varphi_{1}}{2} - \\frac{\\varphi_{2}}{2} \\right)} - D l \\cos{\\left(\\frac{\\varphi_{2}}{2} - \\frac{\\varphi_{3}}{2} \\right)} - \\frac{\\rho k e^{- \\sqrt{R^{2} - 2 R \\rho \\cos{\\left(\\theta - \\varphi_{2} \\right)} + \\rho^{2}}} \\sin{\\left(\\theta - \\varphi_{2} \\right)}}{\\sqrt{R^{2} - 2 R \\rho \\cos{\\left(\\theta - \\varphi_{2} \\right)} + \\rho^{2}}}\\right)$"
          },
          "metadata": {},
          "execution_count": 18
        }
      ]
    },
    {
      "cell_type": "code",
      "source": [
        "harmas"
      ],
      "metadata": {
        "colab": {
          "base_uri": "https://localhost:8080/",
          "height": 69
        },
        "id": "aEmtTUJ0lNKQ",
        "outputId": "6792729e-4ade-4255-975f-5c830c4de971"
      },
      "execution_count": null,
      "outputs": [
        {
          "output_type": "execute_result",
          "data": {
            "text/plain": [
              "      ⎛                                                                        ↪\n",
              "      ⎜                                                                        ↪\n",
              "      ⎜                                                                        ↪\n",
              "      ⎜                                                                     ⎛\\ ↪\n",
              "1.0⋅R⋅⎜D⋅R⋅sin(\\varphi₁ - \\varphi₃) + D⋅R⋅sin(\\varphi₂ - \\varphi₃) - D⋅l⋅cos⎜─ ↪\n",
              "      ⎜                                                                     ⎝  ↪\n",
              "      ⎜                                                                        ↪\n",
              "      ⎝                                                                        ↪\n",
              "\n",
              "↪                                                                  ___________ ↪\n",
              "↪                                                                 ╱  2         ↪\n",
              "↪                                                              -╲╱  R  - 2⋅R⋅\\ ↪\n",
              "↪ varphi₁   \\varphi₃⎞          ⎛\\varphi₂   \\varphi₃⎞   \\rho⋅k⋅ℯ                ↪\n",
              "↪ ─────── - ────────⎟ + D⋅l⋅cos⎜──────── - ────────⎟ - ─────────────────────── ↪\n",
              "↪   2          2    ⎠          ⎝   2          2    ⎠                      ____ ↪\n",
              "↪                                                                        ╱  2  ↪\n",
              "↪                                                                      ╲╱  R   ↪\n",
              "\n",
              "↪ ___________________________________                       ⎞\n",
              "↪                                  2                        ⎟\n",
              "↪ rho⋅cos(\\theta - \\varphi₃) + \\rho                         ⎟\n",
              "↪                                    ⋅sin(\\theta - \\varphi₃)⎟\n",
              "↪ ──────────────────────────────────────────────────────────⎟\n",
              "↪ __________________________________________                ⎟\n",
              "↪                                         2                 ⎟\n",
              "↪ - 2⋅R⋅\\rho⋅cos(\\theta - \\varphi₃) + \\rho                  ⎠"
            ],
            "text/latex": "$\\displaystyle 1.0 R \\left(D R \\sin{\\left(\\varphi_{1} - \\varphi_{3} \\right)} + D R \\sin{\\left(\\varphi_{2} - \\varphi_{3} \\right)} - D l \\cos{\\left(\\frac{\\varphi_{1}}{2} - \\frac{\\varphi_{3}}{2} \\right)} + D l \\cos{\\left(\\frac{\\varphi_{2}}{2} - \\frac{\\varphi_{3}}{2} \\right)} - \\frac{\\rho k e^{- \\sqrt{R^{2} - 2 R \\rho \\cos{\\left(\\theta - \\varphi_{3} \\right)} + \\rho^{2}}} \\sin{\\left(\\theta - \\varphi_{3} \\right)}}{\\sqrt{R^{2} - 2 R \\rho \\cos{\\left(\\theta - \\varphi_{3} \\right)} + \\rho^{2}}}\\right)$"
          },
          "metadata": {},
          "execution_count": 13
        }
      ]
    },
    {
      "cell_type": "code",
      "source": [
        "kicsi"
      ],
      "metadata": {
        "colab": {
          "base_uri": "https://localhost:8080/",
          "height": 69
        },
        "id": "n3bqJ7bflPp-",
        "outputId": "4a98c0ac-c96b-40db-b717-b47719c56094"
      },
      "execution_count": null,
      "outputs": [
        {
          "output_type": "execute_result",
          "data": {
            "text/plain": [
              "         ⎛     ______________________________________________                  ↪\n",
              "         ⎜    ╱  2                                         2                   ↪\n",
              "         ⎜ -╲╱  R  - 2⋅R⋅\\rho⋅cos(\\theta - \\varphi₃) + \\rho                    ↪\n",
              "         ⎜ℯ                                                  ⋅sin(\\theta - \\va ↪\n",
              "R⋅\\rho⋅k⋅⎜──────────────────────────────────────────────────────────────────── ↪\n",
              "         ⎜               ______________________________________________        ↪\n",
              "         ⎜              ╱  2                                         2         ↪\n",
              "         ⎝            ╲╱  R  - 2⋅R⋅\\rho⋅cos(\\theta - \\varphi₃) + \\rho          ↪\n",
              "\n",
              "↪               ______________________________________________                 ↪\n",
              "↪              ╱  2                                         2                  ↪\n",
              "↪           -╲╱  R  - 2⋅R⋅\\rho⋅cos(\\theta - \\varphi₂) + \\rho                   ↪\n",
              "↪ rphi₃)   ℯ                                                  ⋅sin(\\theta - \\v ↪\n",
              "↪ ────── + ─────────────────────────────────────────────────────────────────── ↪\n",
              "↪                         ______________________________________________       ↪\n",
              "↪                        ╱  2                                         2        ↪\n",
              "↪                      ╲╱  R  - 2⋅R⋅\\rho⋅cos(\\theta - \\varphi₂) + \\rho         ↪\n",
              "\n",
              "↪                ______________________________________________                ↪\n",
              "↪               ╱  2                                         2                 ↪\n",
              "↪            -╲╱  R  - 2⋅R⋅\\rho⋅cos(\\theta - \\varphi₁) + \\rho                  ↪\n",
              "↪ arphi₂)   ℯ                                                  ⋅sin(\\theta - \\ ↪\n",
              "↪ ─────── + ────────────────────────────────────────────────────────────────── ↪\n",
              "↪                          ______________________________________________      ↪\n",
              "↪                         ╱  2                                         2       ↪\n",
              "↪                       ╲╱  R  - 2⋅R⋅\\rho⋅cos(\\theta - \\varphi₁) + \\rho        ↪\n",
              "\n",
              "↪         ⎞\n",
              "↪         ⎟\n",
              "↪         ⎟\n",
              "↪ varphi₁)⎟\n",
              "↪ ────────⎟\n",
              "↪         ⎟\n",
              "↪         ⎟\n",
              "↪         ⎠"
            ],
            "text/latex": "$\\displaystyle R \\rho k \\left(\\frac{e^{- \\sqrt{R^{2} - 2 R \\rho \\cos{\\left(\\theta - \\varphi_{3} \\right)} + \\rho^{2}}} \\sin{\\left(\\theta - \\varphi_{3} \\right)}}{\\sqrt{R^{2} - 2 R \\rho \\cos{\\left(\\theta - \\varphi_{3} \\right)} + \\rho^{2}}} + \\frac{e^{- \\sqrt{R^{2} - 2 R \\rho \\cos{\\left(\\theta - \\varphi_{2} \\right)} + \\rho^{2}}} \\sin{\\left(\\theta - \\varphi_{2} \\right)}}{\\sqrt{R^{2} - 2 R \\rho \\cos{\\left(\\theta - \\varphi_{2} \\right)} + \\rho^{2}}} + \\frac{e^{- \\sqrt{R^{2} - 2 R \\rho \\cos{\\left(\\theta - \\varphi_{1} \\right)} + \\rho^{2}}} \\sin{\\left(\\theta - \\varphi_{1} \\right)}}{\\sqrt{R^{2} - 2 R \\rho \\cos{\\left(\\theta - \\varphi_{1} \\right)} + \\rho^{2}}}\\right)$"
          },
          "metadata": {},
          "execution_count": 21
        }
      ]
    },
    {
      "cell_type": "code",
      "source": [],
      "metadata": {
        "id": "6NFJOb1Wl9rH"
      },
      "execution_count": null,
      "outputs": []
    }
  ]
}