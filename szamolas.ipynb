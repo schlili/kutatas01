{
 "cells": [
  {
   "cell_type": "code",
   "execution_count": 1,
   "metadata": {
    "id": "PW89PqTAf57i"
   },
   "outputs": [],
   "source": [
    "from sympy import *\n",
    "init_printing()"
   ]
  },
  {
   "cell_type": "code",
   "execution_count": 2,
   "metadata": {
    "id": "FWQKkK1Of8my"
   },
   "outputs": [],
   "source": [
    "phi1, phi2, phi3, theta, R, rho, D, k, l_12, l_13, l_23, l_0, m = symbols([r'\\varphi_1', r'\\varphi_2', r'\\varphi_3', r'\\theta', 'R', r'\\rho', 'D','k', r'l_{12}', r'l_{13}',r'l_{23}', r'l_0', 'm'])\n",
    "dphi1, dphi2, dphi3, dtheta = symbols([r'\\dot{\\varphi}_1', r'\\dot{\\varphi}_2', r'\\dot{\\varphi}_3', r'\\dot{\\theta}'])"
   ]
  },
  {
   "cell_type": "markdown",
   "metadata": {},
   "source": [
    "# Modell először 3 golyóra"
   ]
  },
  {
   "cell_type": "markdown",
   "metadata": {},
   "source": [
    "## A Lagrange-fv: $L=K-V$\n",
    "\n",
    "### $K=K_{b} + K_{k}$\n",
    "\n",
    "### $V=V_{b}+V_{k}$\n",
    "\n",
    "$K_{b} = \\frac{1}{2}mR^{2}(\\dot{\\varphi_{1}}^{2} +\\dot{ \\varphi_{2}}^{2} +\\dot{ \\varphi_{3}}^{2})$\n",
    "\n",
    "$K_{k} = \\frac{1}{2}m \\rho^{2} \\dot{\\theta}^{2}$\n",
    "\n",
    "$V_{b}=\\frac{1}{2} k  \\left [ (l_{0}-l_{12})^{2} + (l_{0}-l_{23})^{2} + (l_{0}-l_{13})^{2} \\right ]$\n",
    "\n",
    "$V_{k} = k \\left [ e^{-r_{1}} + e^{-r_{2}} + e^{-r_{3}} \\right ]$\n",
    "\n"
   ]
  },
  {
   "cell_type": "markdown",
   "metadata": {},
   "source": [
    "A rugók hossza: (és $l_0$ a nyugalmi)"
   ]
  },
  {
   "cell_type": "code",
   "execution_count": 3,
   "metadata": {},
   "outputs": [],
   "source": [
    "l_12 = sqrt(2) * R * sqrt(1 - cos(phi2 - phi1))\n",
    "l_13 = sqrt(2) * R * sqrt(1 - cos(phi3 - phi1))\n",
    "l_23 = sqrt(2) * R * sqrt(1 - cos(phi2 - phi3))"
   ]
  },
  {
   "cell_type": "markdown",
   "metadata": {},
   "source": [
    "Kölcsönhatás benti golyók között:"
   ]
  },
  {
   "cell_type": "code",
   "execution_count": 4,
   "metadata": {},
   "outputs": [],
   "source": [
    "V_b = 1/2 * D * ((l_0-l_12)**2 + (l_0-l_23)**2 + (l_0-l_13)**2)"
   ]
  },
  {
   "cell_type": "code",
   "execution_count": 5,
   "metadata": {
    "id": "IywsScB9jUQr"
   },
   "outputs": [],
   "source": [
    "#V_b= 1/2 * D * (3*l**2 + 4*R**2*((sin((phi2-phi1)/(2)))**2 + (sin((phi3-phi2)/(2)))**2 + (sin((phi1-phi3)/(2)))**2) - 4*R*l*(sin((phi2-phi1)/(2)) + sin((phi3-phi2)/(2)) + sin((phi1-phi3)/(2))))"
   ]
  },
  {
   "cell_type": "markdown",
   "metadata": {},
   "source": [
    "A távolságok:"
   ]
  },
  {
   "cell_type": "code",
   "execution_count": 6,
   "metadata": {
    "id": "A9R5jzeOiGCu"
   },
   "outputs": [],
   "source": [
    "r1=sqrt(R**2 + rho**2 - 2*R*rho*cos(theta-phi1))\n",
    "r2=sqrt(R**2 + rho**2 - 2*R*rho*cos(theta-phi2))\n",
    "r3=sqrt(R**2 + rho**2 - 2*R*rho*cos(theta-phi3))"
   ]
  },
  {
   "cell_type": "markdown",
   "metadata": {},
   "source": [
    "Kölcsönhatás a külső golyóval:"
   ]
  },
  {
   "cell_type": "code",
   "execution_count": 7,
   "metadata": {
    "id": "SPpxwW7JkW54"
   },
   "outputs": [],
   "source": [
    "V_k= k * (exp(-r1) + exp(-r2) + exp(-r3))"
   ]
  },
  {
   "cell_type": "markdown",
   "metadata": {},
   "source": [
    "Teljes $V$ és $K$ :"
   ]
  },
  {
   "cell_type": "code",
   "execution_count": 8,
   "metadata": {
    "id": "cVRJgI3CkbI9"
   },
   "outputs": [],
   "source": [
    "V = V_b + V_k"
   ]
  },
  {
   "cell_type": "code",
   "execution_count": 9,
   "metadata": {
    "id": "uzMP24egmCqB"
   },
   "outputs": [],
   "source": [
    "K= 1/2 * m * ( R**2 * (dphi1**2 + dphi2**2 + dphi3**2) + rho**2 * (dtheta**2))"
   ]
  },
  {
   "cell_type": "markdown",
   "metadata": {},
   "source": [
    "$L$:"
   ]
  },
  {
   "cell_type": "code",
   "execution_count": 10,
   "metadata": {
    "id": "k-6fCiL5mSr2"
   },
   "outputs": [],
   "source": [
    "L= K - V"
   ]
  },
  {
   "cell_type": "code",
   "execution_count": 11,
   "metadata": {
    "colab": {
     "base_uri": "https://localhost:8080/",
     "height": 79
    },
    "id": "4lASrgw7r0lO",
    "outputId": "5b1d87eb-8836-4125-9da7-8e12c8b86489"
   },
   "outputs": [
    {
     "data": {
      "image/png": "[encoded data removed]",
      "text/latex": [
       "$\\displaystyle - 0.5 D \\left(\\left(- \\sqrt{2} R \\sqrt{1 - \\cos{\\left(\\varphi_{1} - \\varphi_{2} \\right)}} + l_{0}\\right)^{2} + \\left(- \\sqrt{2} R \\sqrt{1 - \\cos{\\left(\\varphi_{1} - \\varphi_{3} \\right)}} + l_{0}\\right)^{2} + \\left(- \\sqrt{2} R \\sqrt{1 - \\cos{\\left(\\varphi_{2} - \\varphi_{3} \\right)}} + l_{0}\\right)^{2}\\right) - k \\left(e^{- \\sqrt{R^{2} - 2 R \\rho \\cos{\\left(\\theta - \\varphi_{3} \\right)} + \\rho^{2}}} + e^{- \\sqrt{R^{2} - 2 R \\rho \\cos{\\left(\\theta - \\varphi_{2} \\right)} + \\rho^{2}}} + e^{- \\sqrt{R^{2} - 2 R \\rho \\cos{\\left(\\theta - \\varphi_{1} \\right)} + \\rho^{2}}}\\right) + 0.5 m \\left(R^{2} \\left(\\dot{\\varphi}_1^{2} + \\dot{\\varphi}_2^{2} + \\dot{\\varphi}_3^{2}\\right) + \\dot{\\theta}^{2} \\rho^{2}\\right)$"
      ],
      "text/plain": [
       "                                                                               ↪\n",
       "        ⎛                                              2                       ↪\n",
       "        ⎜⎛         ______________________________     ⎞    ⎛         _________ ↪\n",
       "- 0.5⋅D⋅⎝⎝- √2⋅R⋅╲╱ 1 - cos(\\varphi₁ - \\varphi₂)  + l₀⎠  + ⎝- √2⋅R⋅╲╱ 1 - cos( ↪\n",
       "\n",
       "↪                                                                              ↪\n",
       "↪                            2                                                 ↪\n",
       "↪ _____________________     ⎞    ⎛         ______________________________      ↪\n",
       "↪ \\varphi₁ - \\varphi₃)  + l₀⎠  + ⎝- √2⋅R⋅╲╱ 1 - cos(\\varphi₂ - \\varphi₃)  + l₀ ↪\n",
       "\n",
       "↪         ⎛     ______________________________________________        ________ ↪\n",
       "↪  2⎞     ⎜    ╱  2                                         2        ╱  2      ↪\n",
       "↪ ⎞ ⎟     ⎜ -╲╱  R  - 2⋅R⋅\\rho⋅cos(\\theta - \\varphi₃) + \\rho      -╲╱  R  - 2⋅ ↪\n",
       "↪ ⎠ ⎠ - k⋅⎝ℯ                                                   + ℯ             ↪\n",
       "\n",
       "↪ ______________________________________        ______________________________ ↪\n",
       "↪                                     2        ╱  2                            ↪\n",
       "↪ R⋅\\rho⋅cos(\\theta - \\varphi₂) + \\rho      -╲╱  R  - 2⋅R⋅\\rho⋅cos(\\theta - \\v ↪\n",
       "↪                                        + ℯ                                   ↪\n",
       "\n",
       "↪ ________________⎞                                                            ↪\n",
       "↪               2 ⎟                                                            ↪\n",
       "↪ arphi₁) + \\rho  ⎟         ⎛ 2 ⎛              2                 2             ↪\n",
       "↪                 ⎠ + 0.5⋅m⋅⎝R ⋅⎝\\dot{\\varphi}₁  + \\dot{\\varphi}₂  + \\dot{\\var ↪\n",
       "\n",
       "↪                               \n",
       "↪                               \n",
       "↪      2⎞               2     2⎞\n",
       "↪ phi}₃ ⎠ + \\dot{\\theta} ⋅\\rho ⎠"
      ]
     },
     "execution_count": 11,
     "metadata": {},
     "output_type": "execute_result"
    }
   ],
   "source": [
    "L"
   ]
  },
  {
   "cell_type": "markdown",
   "metadata": {},
   "source": [
    "# Euler- Lagrange:\n",
    "\n",
    "$\\frac{\\partial L}{\\partial q_{i}} - \\mathrm{\\frac{d}{dt}}\\frac{\\partial L}{\\partial \\dot{q_{i}}} = 0$\n",
    "\n",
    "## Most:\n",
    "\n",
    "$\\frac{\\partial L}{\\partial \\varphi_{n}} - \\mathrm{\\frac{d}{dt}}\\frac{\\partial L}{\\partial \\dot{\\varphi_{n}}} = 0$\n",
    "\n",
    "$\\frac{\\partial L}{\\partial \\theta} - \\mathrm{\\frac{d}{dt}}\\frac{\\partial L}{\\partial \\dot{\\theta}} = 0$\n"
   ]
  },
  {
   "cell_type": "markdown",
   "metadata": {},
   "source": [
    "### n = 1,2,3 -ra: \n",
    "\n",
    "### $\\frac{\\partial L}{\\partial q_{i}}=...$"
   ]
  },
  {
   "cell_type": "code",
   "execution_count": 12,
   "metadata": {
    "id": "XXsHSFgbkpkt"
   },
   "outputs": [],
   "source": [
    "egyes=simplify(diff(L,phi1))\n",
    "kettes=simplify(diff(L,phi2))\n",
    "harmas=simplify(diff(L,phi3))\n",
    "kinti=simplify(diff(L,theta))"
   ]
  },
  {
   "cell_type": "code",
   "execution_count": 13,
   "metadata": {
    "colab": {
     "base_uri": "https://localhost:8080/",
     "height": 69
    },
    "id": "H2HmcneMlHVH",
    "outputId": "da900abf-d98a-4f18-f8dd-42f51e3cb4c9"
   },
   "outputs": [
    {
     "data": {
      "image/png": "[encoded data removed]",
      "text/latex": [
       "$\\displaystyle R \\left(- 1.0 D R \\sin{\\left(\\varphi_{1} - \\varphi_{2} \\right)} - 1.0 D R \\sin{\\left(\\varphi_{1} - \\varphi_{3} \\right)} + \\frac{0.5 \\sqrt{2} D l_{0} \\sin{\\left(\\varphi_{1} - \\varphi_{3} \\right)}}{\\sqrt{1 - \\cos{\\left(\\varphi_{1} - \\varphi_{3} \\right)}}} + \\frac{0.5 \\sqrt{2} D l_{0} \\sin{\\left(\\varphi_{1} - \\varphi_{2} \\right)}}{\\sqrt{1 - \\cos{\\left(\\varphi_{1} - \\varphi_{2} \\right)}}} - \\frac{1.0 \\rho k e^{- \\sqrt{R^{2} - 2 R \\rho \\cos{\\left(\\theta - \\varphi_{1} \\right)} + \\rho^{2}}} \\sin{\\left(\\theta - \\varphi_{1} \\right)}}{\\sqrt{R^{2} - 2 R \\rho \\cos{\\left(\\theta - \\varphi_{1} \\right)} + \\rho^{2}}}\\right)$"
      ],
      "text/plain": [
       "  ⎛                                                                            ↪\n",
       "  ⎜                                                                            ↪\n",
       "  ⎜                                                                            ↪\n",
       "  ⎜                                                                       0.5⋅ ↪\n",
       "R⋅⎜-1.0⋅D⋅R⋅sin(\\varphi₁ - \\varphi₂) - 1.0⋅D⋅R⋅sin(\\varphi₁ - \\varphi₃) + ──── ↪\n",
       "  ⎜                                                                            ↪\n",
       "  ⎜                                                                         ╲╱ ↪\n",
       "  ⎝                                                                            ↪\n",
       "\n",
       "↪                                                                              ↪\n",
       "↪                                                                              ↪\n",
       "↪                                                                              ↪\n",
       "↪ √2⋅D⋅l₀⋅sin(\\varphi₁ - \\varphi₃)   0.5⋅√2⋅D⋅l₀⋅sin(\\varphi₁ - \\varphi₂)   1. ↪\n",
       "↪ ──────────────────────────────── + ──────────────────────────────────── - ── ↪\n",
       "↪ ______________________________         ______________________________        ↪\n",
       "↪  1 - cos(\\varphi₁ - \\varphi₃)        ╲╱ 1 - cos(\\varphi₁ - \\varphi₂)         ↪\n",
       "↪                                                                              ↪\n",
       "\n",
       "↪               ______________________________________________                 ↪\n",
       "↪              ╱  2                                         2                  ↪\n",
       "↪           -╲╱  R  - 2⋅R⋅\\rho⋅cos(\\theta - \\varphi₁) + \\rho                   ↪\n",
       "↪ 0⋅\\rho⋅k⋅ℯ                                                  ⋅sin(\\theta - \\v ↪\n",
       "↪ ──────────────────────────────────────────────────────────────────────────── ↪\n",
       "↪                    ______________________________________________            ↪\n",
       "↪                   ╱  2                                         2             ↪\n",
       "↪                 ╲╱  R  - 2⋅R⋅\\rho⋅cos(\\theta - \\varphi₁) + \\rho              ↪\n",
       "\n",
       "↪        ⎞\n",
       "↪        ⎟\n",
       "↪        ⎟\n",
       "↪ arphi₁)⎟\n",
       "↪ ───────⎟\n",
       "↪        ⎟\n",
       "↪        ⎟\n",
       "↪        ⎠"
      ]
     },
     "execution_count": 13,
     "metadata": {},
     "output_type": "execute_result"
    }
   ],
   "source": [
    "egyes"
   ]
  },
  {
   "cell_type": "code",
   "execution_count": 14,
   "metadata": {
    "colab": {
     "base_uri": "https://localhost:8080/",
     "height": 69
    },
    "id": "eOnLXqkWlIYd",
    "outputId": "a7b0ef2e-66fd-4d13-ca52-53402dbcc826"
   },
   "outputs": [
    {
     "data": {
      "image/png": "[encoded data removed]",
      "text/latex": [
       "$\\displaystyle R \\left(1.0 D R \\sin{\\left(\\varphi_{1} - \\varphi_{2} \\right)} - 1.0 D R \\sin{\\left(\\varphi_{2} - \\varphi_{3} \\right)} + \\frac{0.5 \\sqrt{2} D l_{0} \\sin{\\left(\\varphi_{2} - \\varphi_{3} \\right)}}{\\sqrt{1 - \\cos{\\left(\\varphi_{2} - \\varphi_{3} \\right)}}} - \\frac{0.5 \\sqrt{2} D l_{0} \\sin{\\left(\\varphi_{1} - \\varphi_{2} \\right)}}{\\sqrt{1 - \\cos{\\left(\\varphi_{1} - \\varphi_{2} \\right)}}} - \\frac{1.0 \\rho k e^{- \\sqrt{R^{2} - 2 R \\rho \\cos{\\left(\\theta - \\varphi_{2} \\right)} + \\rho^{2}}} \\sin{\\left(\\theta - \\varphi_{2} \\right)}}{\\sqrt{R^{2} - 2 R \\rho \\cos{\\left(\\theta - \\varphi_{2} \\right)} + \\rho^{2}}}\\right)$"
      ],
      "text/plain": [
       "  ⎛                                                                            ↪\n",
       "  ⎜                                                                            ↪\n",
       "  ⎜                                                                            ↪\n",
       "  ⎜                                                                      0.5⋅√ ↪\n",
       "R⋅⎜1.0⋅D⋅R⋅sin(\\varphi₁ - \\varphi₂) - 1.0⋅D⋅R⋅sin(\\varphi₂ - \\varphi₃) + ───── ↪\n",
       "  ⎜                                                                          _ ↪\n",
       "  ⎜                                                                        ╲╱  ↪\n",
       "  ⎝                                                                            ↪\n",
       "\n",
       "↪                                                                              ↪\n",
       "↪                                                                              ↪\n",
       "↪                                                                              ↪\n",
       "↪ 2⋅D⋅l₀⋅sin(\\varphi₂ - \\varphi₃)   0.5⋅√2⋅D⋅l₀⋅sin(\\varphi₁ - \\varphi₂)   1.0 ↪\n",
       "↪ ─────────────────────────────── - ──────────────────────────────────── - ─── ↪\n",
       "↪ _____________________________         ______________________________         ↪\n",
       "↪ 1 - cos(\\varphi₂ - \\varphi₃)        ╲╱ 1 - cos(\\varphi₁ - \\varphi₂)          ↪\n",
       "↪                                                                              ↪\n",
       "\n",
       "↪              ______________________________________________                  ↪\n",
       "↪             ╱  2                                         2                   ↪\n",
       "↪          -╲╱  R  - 2⋅R⋅\\rho⋅cos(\\theta - \\varphi₂) + \\rho                    ↪\n",
       "↪ ⋅\\rho⋅k⋅ℯ                                                  ⋅sin(\\theta - \\va ↪\n",
       "↪ ──────────────────────────────────────────────────────────────────────────── ↪\n",
       "↪                   ______________________________________________             ↪\n",
       "↪                  ╱  2                                         2              ↪\n",
       "↪                ╲╱  R  - 2⋅R⋅\\rho⋅cos(\\theta - \\varphi₂) + \\rho               ↪\n",
       "\n",
       "↪       ⎞\n",
       "↪       ⎟\n",
       "↪       ⎟\n",
       "↪ rphi₂)⎟\n",
       "↪ ──────⎟\n",
       "↪       ⎟\n",
       "↪       ⎟\n",
       "↪       ⎠"
      ]
     },
     "execution_count": 14,
     "metadata": {},
     "output_type": "execute_result"
    }
   ],
   "source": [
    "kettes"
   ]
  },
  {
   "cell_type": "code",
   "execution_count": 15,
   "metadata": {
    "colab": {
     "base_uri": "https://localhost:8080/",
     "height": 69
    },
    "id": "aEmtTUJ0lNKQ",
    "outputId": "8d5d879f-0c47-4c80-8099-c1dbea9826b1"
   },
   "outputs": [
    {
     "data": {
      "image/png": "[encoded data removed]",
      "text/latex": [
       "$\\displaystyle R \\left(1.0 D R \\sin{\\left(\\varphi_{1} - \\varphi_{3} \\right)} + 1.0 D R \\sin{\\left(\\varphi_{2} - \\varphi_{3} \\right)} - \\frac{0.5 \\sqrt{2} D l_{0} \\sin{\\left(\\varphi_{2} - \\varphi_{3} \\right)}}{\\sqrt{1 - \\cos{\\left(\\varphi_{2} - \\varphi_{3} \\right)}}} - \\frac{0.5 \\sqrt{2} D l_{0} \\sin{\\left(\\varphi_{1} - \\varphi_{3} \\right)}}{\\sqrt{1 - \\cos{\\left(\\varphi_{1} - \\varphi_{3} \\right)}}} - \\frac{1.0 \\rho k e^{- \\sqrt{R^{2} - 2 R \\rho \\cos{\\left(\\theta - \\varphi_{3} \\right)} + \\rho^{2}}} \\sin{\\left(\\theta - \\varphi_{3} \\right)}}{\\sqrt{R^{2} - 2 R \\rho \\cos{\\left(\\theta - \\varphi_{3} \\right)} + \\rho^{2}}}\\right)$"
      ],
      "text/plain": [
       "  ⎛                                                                            ↪\n",
       "  ⎜                                                                            ↪\n",
       "  ⎜                                                                            ↪\n",
       "  ⎜                                                                      0.5⋅√ ↪\n",
       "R⋅⎜1.0⋅D⋅R⋅sin(\\varphi₁ - \\varphi₃) + 1.0⋅D⋅R⋅sin(\\varphi₂ - \\varphi₃) - ───── ↪\n",
       "  ⎜                                                                          _ ↪\n",
       "  ⎜                                                                        ╲╱  ↪\n",
       "  ⎝                                                                            ↪\n",
       "\n",
       "↪                                                                              ↪\n",
       "↪                                                                              ↪\n",
       "↪                                                                              ↪\n",
       "↪ 2⋅D⋅l₀⋅sin(\\varphi₂ - \\varphi₃)   0.5⋅√2⋅D⋅l₀⋅sin(\\varphi₁ - \\varphi₃)   1.0 ↪\n",
       "↪ ─────────────────────────────── - ──────────────────────────────────── - ─── ↪\n",
       "↪ _____________________________         ______________________________         ↪\n",
       "↪ 1 - cos(\\varphi₂ - \\varphi₃)        ╲╱ 1 - cos(\\varphi₁ - \\varphi₃)          ↪\n",
       "↪                                                                              ↪\n",
       "\n",
       "↪              ______________________________________________                  ↪\n",
       "↪             ╱  2                                         2                   ↪\n",
       "↪          -╲╱  R  - 2⋅R⋅\\rho⋅cos(\\theta - \\varphi₃) + \\rho                    ↪\n",
       "↪ ⋅\\rho⋅k⋅ℯ                                                  ⋅sin(\\theta - \\va ↪\n",
       "↪ ──────────────────────────────────────────────────────────────────────────── ↪\n",
       "↪                   ______________________________________________             ↪\n",
       "↪                  ╱  2                                         2              ↪\n",
       "↪                ╲╱  R  - 2⋅R⋅\\rho⋅cos(\\theta - \\varphi₃) + \\rho               ↪\n",
       "\n",
       "↪       ⎞\n",
       "↪       ⎟\n",
       "↪       ⎟\n",
       "↪ rphi₃)⎟\n",
       "↪ ──────⎟\n",
       "↪       ⎟\n",
       "↪       ⎟\n",
       "↪       ⎠"
      ]
     },
     "execution_count": 15,
     "metadata": {},
     "output_type": "execute_result"
    }
   ],
   "source": [
    "harmas"
   ]
  },
  {
   "cell_type": "code",
   "execution_count": 16,
   "metadata": {
    "colab": {
     "base_uri": "https://localhost:8080/",
     "height": 69
    },
    "id": "n3bqJ7bflPp-",
    "outputId": "4e5178d0-5074-4a0b-af5f-2da09e87328b"
   },
   "outputs": [
    {
     "data": {
      "image/png": "[encoded data removed]",
      "text/latex": [
       "$\\displaystyle R \\rho k \\left(\\frac{e^{- \\sqrt{R^{2} - 2 R \\rho \\cos{\\left(\\theta - \\varphi_{3} \\right)} + \\rho^{2}}} \\sin{\\left(\\theta - \\varphi_{3} \\right)}}{\\sqrt{R^{2} - 2 R \\rho \\cos{\\left(\\theta - \\varphi_{3} \\right)} + \\rho^{2}}} + \\frac{e^{- \\sqrt{R^{2} - 2 R \\rho \\cos{\\left(\\theta - \\varphi_{2} \\right)} + \\rho^{2}}} \\sin{\\left(\\theta - \\varphi_{2} \\right)}}{\\sqrt{R^{2} - 2 R \\rho \\cos{\\left(\\theta - \\varphi_{2} \\right)} + \\rho^{2}}} + \\frac{e^{- \\sqrt{R^{2} - 2 R \\rho \\cos{\\left(\\theta - \\varphi_{1} \\right)} + \\rho^{2}}} \\sin{\\left(\\theta - \\varphi_{1} \\right)}}{\\sqrt{R^{2} - 2 R \\rho \\cos{\\left(\\theta - \\varphi_{1} \\right)} + \\rho^{2}}}\\right)$"
      ],
      "text/plain": [
       "         ⎛     ______________________________________________                  ↪\n",
       "         ⎜    ╱  2                                         2                   ↪\n",
       "         ⎜ -╲╱  R  - 2⋅R⋅\\rho⋅cos(\\theta - \\varphi₃) + \\rho                    ↪\n",
       "         ⎜ℯ                                                  ⋅sin(\\theta - \\va ↪\n",
       "R⋅\\rho⋅k⋅⎜──────────────────────────────────────────────────────────────────── ↪\n",
       "         ⎜               ______________________________________________        ↪\n",
       "         ⎜              ╱  2                                         2         ↪\n",
       "         ⎝            ╲╱  R  - 2⋅R⋅\\rho⋅cos(\\theta - \\varphi₃) + \\rho          ↪\n",
       "\n",
       "↪               ______________________________________________                 ↪\n",
       "↪              ╱  2                                         2                  ↪\n",
       "↪           -╲╱  R  - 2⋅R⋅\\rho⋅cos(\\theta - \\varphi₂) + \\rho                   ↪\n",
       "↪ rphi₃)   ℯ                                                  ⋅sin(\\theta - \\v ↪\n",
       "↪ ────── + ─────────────────────────────────────────────────────────────────── ↪\n",
       "↪                         ______________________________________________       ↪\n",
       "↪                        ╱  2                                         2        ↪\n",
       "↪                      ╲╱  R  - 2⋅R⋅\\rho⋅cos(\\theta - \\varphi₂) + \\rho         ↪\n",
       "\n",
       "↪                ______________________________________________                ↪\n",
       "↪               ╱  2                                         2                 ↪\n",
       "↪            -╲╱  R  - 2⋅R⋅\\rho⋅cos(\\theta - \\varphi₁) + \\rho                  ↪\n",
       "↪ arphi₂)   ℯ                                                  ⋅sin(\\theta - \\ ↪\n",
       "↪ ─────── + ────────────────────────────────────────────────────────────────── ↪\n",
       "↪                          ______________________________________________      ↪\n",
       "↪                         ╱  2                                         2       ↪\n",
       "↪                       ╲╱  R  - 2⋅R⋅\\rho⋅cos(\\theta - \\varphi₁) + \\rho        ↪\n",
       "\n",
       "↪         ⎞\n",
       "↪         ⎟\n",
       "↪         ⎟\n",
       "↪ varphi₁)⎟\n",
       "↪ ────────⎟\n",
       "↪         ⎟\n",
       "↪         ⎟\n",
       "↪         ⎠"
      ]
     },
     "execution_count": 16,
     "metadata": {},
     "output_type": "execute_result"
    }
   ],
   "source": [
    "kinti"
   ]
  },
  {
   "cell_type": "markdown",
   "metadata": {
    "id": "6NFJOb1Wl9rH"
   },
   "source": [
    "## $\\mathrm{\\frac{d}{dt}}\\frac{\\partial L}{\\partial \\dot{q_{i}}}:$\n",
    "\n",
    "$\\mathrm{\\frac{d}{dt}}\\frac{\\partial L}{\\partial \\dot{\\varphi_{n}}} = mR^{2}\\ddot{\\varphi}_{n}$\n",
    "\n",
    "$\\mathrm{\\frac{d}{dt}}\\frac{\\partial L}{\\partial \\dot{\\theta}} = m \\rho^{2} \\ddot{\\theta}$"
   ]
  },
  {
   "cell_type": "markdown",
   "metadata": {},
   "source": [
    "## A megoldandó diffegyenletek (N golyó):\n",
    "\n",
    "### $\\ddot{\\varphi}_{n}= \\frac{d}{mR}\\left [ R \\sin(\\varphi_{n-1}-\\varphi_{n}) -\n",
    "                       R\\sin(\\varphi_{n}-\\varphi_{n-1}) + \\frac{\n",
    "                      \\sqrt{2}l_{0}\\sin(\\varphi_{n} - \\varphi_{n+1})}{2\\sqrt{1-\\cos(\\varphi_{n}-\\varphi_{n+1})}} -\n",
    "                      \\frac{\n",
    "                      \\sqrt{2}l_{0}\\sin(\\varphi_{n-1} - \\varphi_{n})}{2\\sqrt{1-\\cos(\\varphi_{n-1}-\\varphi_{n})}}  -\n",
    "                       \\frac{\\rho k}{d} \\frac{e^{ -\\sqrt{R^{2} - 2R \\rho \\cos(\\theta - \\varphi_{n})+\\rho^{2}}}\\sin(\\theta - \\varphi_{n})} {\\sqrt{R^{2} - 2R\\rho \\cos(\\theta - \\varphi_{n}) + \\rho^{2}}} \\right ]$\n",
    "                       \n",
    "### $\\ddot {\\theta} = \\frac{R k}{m \\rho} \\sum_{n}^{N} \\left [ \\frac{e^{ -\\sqrt{R^{2} - 2R \\rho \\cos(\\theta - \\varphi_{n})+\\rho^{2}}}\\sin(\\theta - \\varphi_{n})} {\\sqrt{R^{2} - 2R\\rho \\cos(\\theta - \\varphi_{n}) + \\rho^{2}}} \\right ]$"
   ]
  },
  {
   "cell_type": "code",
   "execution_count": null,
   "metadata": {},
   "outputs": [],
   "source": []
  }
 ],
 "metadata": {
  "colab": {
   "provenance": []
  },
  "kernelspec": {
   "display_name": "Python [conda env:base] *",
   "language": "python",
   "name": "conda-base-py"
  },
  "language_info": {
   "codemirror_mode": {
    "name": "ipython",
    "version": 3
   },
   "file_extension": ".py",
   "mimetype": "text/x-python",
   "name": "python",
   "nbconvert_exporter": "python",
   "pygments_lexer": "ipython3",
   "version": "3.11.5"
  }
 },
 "nbformat": 4,
 "nbformat_minor": 1
}
